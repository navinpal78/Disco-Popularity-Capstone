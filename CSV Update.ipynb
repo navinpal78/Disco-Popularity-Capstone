{
 "cells": [
  {
   "cell_type": "code",
   "execution_count": 1,
   "id": "801eccc8-9f1b-4bb7-90b6-85dfba9b5504",
   "metadata": {},
   "outputs": [],
   "source": [
    "import pandas as pd"
   ]
  },
  {
   "cell_type": "code",
   "execution_count": 2,
   "id": "709a4b85-bbed-4524-ba40-6509179f77b1",
   "metadata": {},
   "outputs": [],
   "source": [
    "# Read the CSV file into a DataFrame\n",
    "df = pd.read_csv('ClassicDisco.csv')"
   ]
  },
  {
   "cell_type": "code",
   "execution_count": 3,
   "id": "9b1869d5",
   "metadata": {},
   "outputs": [
    {
     "name": "stdout",
     "output_type": "stream",
     "text": [
      "<class 'pandas.core.frame.DataFrame'>\n",
      "RangeIndex: 724 entries, 0 to 723\n",
      "Data columns (total 18 columns):\n",
      " #   Column            Non-Null Count  Dtype  \n",
      "---  ------            --------------  -----  \n",
      " 0   Track             724 non-null    object \n",
      " 1   Artist            724 non-null    object \n",
      " 2   Album             724 non-null    object \n",
      " 3   Year              724 non-null    int64  \n",
      " 4   Duration          724 non-null    int64  \n",
      " 5   Time_Signature    724 non-null    int64  \n",
      " 6   Danceability      724 non-null    float64\n",
      " 7   Energy            724 non-null    float64\n",
      " 8   Key               724 non-null    int64  \n",
      " 9   Loudness          724 non-null    float64\n",
      " 10  Mode              724 non-null    int64  \n",
      " 11  Speechiness       724 non-null    float64\n",
      " 12  Acousticness      724 non-null    float64\n",
      " 13  Instrumentalness  724 non-null    float64\n",
      " 14  Liveness          724 non-null    float64\n",
      " 15  Valence           724 non-null    float64\n",
      " 16  Tempo             724 non-null    float64\n",
      " 17  Popularity        724 non-null    int64  \n",
      "dtypes: float64(9), int64(6), object(3)\n",
      "memory usage: 101.9+ KB\n"
     ]
    }
   ],
   "source": [
    "df.info()"
   ]
  },
  {
   "cell_type": "code",
   "execution_count": 4,
   "id": "1594d822-3e4f-4480-8201-cfdb91c8b40f",
   "metadata": {},
   "outputs": [
    {
     "name": "stdout",
     "output_type": "stream",
     "text": [
      "                               Track            Artist  \\\n",
      "0                 Boogie Oogie Oogie  A Taste Of Honey   \n",
      "1  Disco Dancin' - 2004 - Remastered  A Taste Of Honey   \n",
      "2                            Distant  A Taste Of Honey   \n",
      "3                         Do It Good  A Taste Of Honey   \n",
      "4                        If We Loved  A Taste Of Honey   \n",
      "\n",
      "                              Album  Year  Duration  Time_Signature  \\\n",
      "0                  A Taste Of Honey  1978    245173               4   \n",
      "1                  A Taste Of Honey  1978    210493               4   \n",
      "2                  A Taste Of Honey  1978    260053               4   \n",
      "3  Another Taste (Expanded Edition)  1978    342826               4   \n",
      "4                  A Taste Of Honey  1978    266200               4   \n",
      "\n",
      "   Danceability  Energy  Key  Loudness  Mode  Speechiness  Acousticness  \\\n",
      "0         0.797   0.548    2    -9.228     0       0.0492        0.0401   \n",
      "1         0.751   0.570    2   -11.645     1       0.0813        0.3710   \n",
      "2         0.468   0.512    2   -10.187     1       0.1380        0.7820   \n",
      "3         0.699   0.740    3    -8.625     0       0.0289        0.0714   \n",
      "4         0.463   0.459    6   -11.600     1       0.0296        0.7640   \n",
      "\n",
      "   Instrumentalness  Liveness  Valence    Tempo  Popularity  \n",
      "0          0.000010    0.0994    0.868  123.686          53  \n",
      "1          0.000020    0.1230    0.770  103.408          11  \n",
      "2          0.000020    0.2020    0.714  163.400          13  \n",
      "3          0.000002    0.1650    0.889  104.168          17  \n",
      "4          0.000003    0.1580    0.300  129.267          13  \n"
     ]
    }
   ],
   "source": [
    "# Display the first few rows of the DataFrame\n",
    "print(df.head())"
   ]
  },
  {
   "cell_type": "code",
   "execution_count": 5,
   "id": "f2e153e2",
   "metadata": {},
   "outputs": [],
   "source": [
    "# Specify the column header you want to remove\n",
    "column_to_remove = 'Year'\n",
    "\n",
    "# Drop the specified column\n",
    "df.drop(column_to_remove, inplace=True, axis=1)"
   ]
  },
  {
   "cell_type": "code",
   "execution_count": 6,
   "id": "a1a4bd4e-3aaa-4975-9b45-6a8204ea27fc",
   "metadata": {},
   "outputs": [],
   "source": [
    "# Specify the column header you want to remove\n",
    "column_to_remove = 'Time_Signature'\n",
    "\n",
    "# Drop the specified column\n",
    "df.drop(column_to_remove, inplace=True, axis=1)"
   ]
  },
  {
   "cell_type": "code",
   "execution_count": 7,
   "id": "50dc563d-1846-44d6-b68d-e6aaa2f73174",
   "metadata": {},
   "outputs": [],
   "source": [
    "# Specify the column header you want to remove\n",
    "column_to_remove = 'Key'\n",
    "\n",
    "# Drop the specified column\n",
    "df.drop(column_to_remove, inplace=True, axis=1)"
   ]
  },
  {
   "cell_type": "code",
   "execution_count": 8,
   "id": "5d29f967-40af-47ba-bd96-eb2cf8ac7894",
   "metadata": {},
   "outputs": [],
   "source": [
    "# Specify the column header you want to remove\n",
    "column_to_remove = 'Mode'\n",
    "\n",
    "# Drop the specified column\n",
    "df.drop(column_to_remove, inplace=True, axis=1)"
   ]
  },
  {
   "cell_type": "code",
   "execution_count": 9,
   "id": "7a8e08c0-85db-47d8-8b3b-07a1491fd8ba",
   "metadata": {},
   "outputs": [],
   "source": [
    "# Specify the column header you want to remove\n",
    "column_to_remove = 'Speechiness'\n",
    "\n",
    "# Drop the specified column\n",
    "df.drop(column_to_remove, inplace=True, axis=1)"
   ]
  },
  {
   "cell_type": "code",
   "execution_count": 10,
   "id": "98907ce0-b633-4c65-ba7f-fd9d7ea251c6",
   "metadata": {},
   "outputs": [],
   "source": [
    "# Define the bins for popularity (0-10, 11-20, etc.)\n",
    "bins = [0, 10, 20, 30, 40, 50, 60, 70, 80, 90, 100]\n",
    "labels = ['1', '2', '3', '4', '5', '6', '7', '8', '9', '10']\n",
    "\n",
    "# Create a new column 'Popularity_Group' based on the bins\n",
    "df['Popularity_Group'] = pd.cut(df['Popularity'], bins=bins, labels=labels, right=True, include_lowest=True)"
   ]
  },
  {
   "cell_type": "code",
   "execution_count": 11,
   "id": "e70ba49f-98a8-41b1-8187-71982c5a2064",
   "metadata": {},
   "outputs": [],
   "source": [
    "# Specify the column header you want to remove\n",
    "column_to_remove = 'Popularity'\n",
    "\n",
    "# Drop the specified column\n",
    "df.drop(column_to_remove, inplace=True, axis=1)"
   ]
  },
  {
   "cell_type": "code",
   "execution_count": 12,
   "id": "da869290",
   "metadata": {},
   "outputs": [],
   "source": [
    "# Filter rows where 'Pdt Cat' doesn't contain 'BATTERY' and 'COUNTRY' doesn't contain 'DUBAI'\n",
    "#clean_data = filtered_data[\n",
    "#    (~filtered_data['Pdt Cat'].str.contains('BATTERY', case=False)) &\n",
    "#    (~filtered_data['COUNTRY'].str.contains('DUBAI', case=False))\n",
    "#]"
   ]
  },
  {
   "cell_type": "code",
   "execution_count": 13,
   "id": "cf185344",
   "metadata": {},
   "outputs": [],
   "source": [
    "#clean column with  , & $\n",
    "#columns_to_clean = ['AMT']\n",
    "\n",
    "#for col in columns_to_clean:\n",
    "#    clean_data[col] = clean_data[col].str.replace(',', '')\n",
    "#    clean_data[col] = clean_data[col].str.replace('$', '')"
   ]
  },
  {
   "cell_type": "code",
   "execution_count": 14,
   "id": "a90de0a1",
   "metadata": {},
   "outputs": [
    {
     "name": "stdout",
     "output_type": "stream",
     "text": [
      "                               Track            Artist  \\\n",
      "0                 Boogie Oogie Oogie  A Taste Of Honey   \n",
      "1  Disco Dancin' - 2004 - Remastered  A Taste Of Honey   \n",
      "2                            Distant  A Taste Of Honey   \n",
      "3                         Do It Good  A Taste Of Honey   \n",
      "4                        If We Loved  A Taste Of Honey   \n",
      "\n",
      "                              Album  Duration  Danceability  Energy  Loudness  \\\n",
      "0                  A Taste Of Honey    245173         0.797   0.548    -9.228   \n",
      "1                  A Taste Of Honey    210493         0.751   0.570   -11.645   \n",
      "2                  A Taste Of Honey    260053         0.468   0.512   -10.187   \n",
      "3  Another Taste (Expanded Edition)    342826         0.699   0.740    -8.625   \n",
      "4                  A Taste Of Honey    266200         0.463   0.459   -11.600   \n",
      "\n",
      "   Acousticness  Instrumentalness  Liveness  Valence    Tempo Popularity_Group  \n",
      "0        0.0401          0.000010    0.0994    0.868  123.686                6  \n",
      "1        0.3710          0.000020    0.1230    0.770  103.408                2  \n",
      "2        0.7820          0.000020    0.2020    0.714  163.400                2  \n",
      "3        0.0714          0.000002    0.1650    0.889  104.168                2  \n",
      "4        0.7640          0.000003    0.1580    0.300  129.267                2  \n"
     ]
    }
   ],
   "source": [
    "print(df.head())"
   ]
  },
  {
   "cell_type": "code",
   "execution_count": 15,
   "id": "cf9da129-a81a-4055-805c-6d4e8223df33",
   "metadata": {},
   "outputs": [
    {
     "data": {
      "text/html": [
       "<div>\n",
       "<style scoped>\n",
       "    .dataframe tbody tr th:only-of-type {\n",
       "        vertical-align: middle;\n",
       "    }\n",
       "\n",
       "    .dataframe tbody tr th {\n",
       "        vertical-align: top;\n",
       "    }\n",
       "\n",
       "    .dataframe thead th {\n",
       "        text-align: right;\n",
       "    }\n",
       "</style>\n",
       "<table border=\"1\" class=\"dataframe\">\n",
       "  <thead>\n",
       "    <tr style=\"text-align: right;\">\n",
       "      <th></th>\n",
       "      <th>Track</th>\n",
       "      <th>Artist</th>\n",
       "      <th>Album</th>\n",
       "      <th>Duration</th>\n",
       "      <th>Danceability</th>\n",
       "      <th>Energy</th>\n",
       "      <th>Loudness</th>\n",
       "      <th>Acousticness</th>\n",
       "      <th>Instrumentalness</th>\n",
       "      <th>Liveness</th>\n",
       "      <th>Valence</th>\n",
       "      <th>Tempo</th>\n",
       "      <th>Popularity_Group</th>\n",
       "    </tr>\n",
       "  </thead>\n",
       "  <tbody>\n",
       "    <tr>\n",
       "      <th>0</th>\n",
       "      <td>Boogie Oogie Oogie</td>\n",
       "      <td>A Taste Of Honey</td>\n",
       "      <td>A Taste Of Honey</td>\n",
       "      <td>245173</td>\n",
       "      <td>0.797</td>\n",
       "      <td>0.548</td>\n",
       "      <td>-9.228</td>\n",
       "      <td>0.0401</td>\n",
       "      <td>0.000010</td>\n",
       "      <td>0.0994</td>\n",
       "      <td>0.868</td>\n",
       "      <td>123.686</td>\n",
       "      <td>6</td>\n",
       "    </tr>\n",
       "    <tr>\n",
       "      <th>1</th>\n",
       "      <td>Disco Dancin' - 2004 - Remastered</td>\n",
       "      <td>A Taste Of Honey</td>\n",
       "      <td>A Taste Of Honey</td>\n",
       "      <td>210493</td>\n",
       "      <td>0.751</td>\n",
       "      <td>0.570</td>\n",
       "      <td>-11.645</td>\n",
       "      <td>0.3710</td>\n",
       "      <td>0.000020</td>\n",
       "      <td>0.1230</td>\n",
       "      <td>0.770</td>\n",
       "      <td>103.408</td>\n",
       "      <td>2</td>\n",
       "    </tr>\n",
       "    <tr>\n",
       "      <th>2</th>\n",
       "      <td>Distant</td>\n",
       "      <td>A Taste Of Honey</td>\n",
       "      <td>A Taste Of Honey</td>\n",
       "      <td>260053</td>\n",
       "      <td>0.468</td>\n",
       "      <td>0.512</td>\n",
       "      <td>-10.187</td>\n",
       "      <td>0.7820</td>\n",
       "      <td>0.000020</td>\n",
       "      <td>0.2020</td>\n",
       "      <td>0.714</td>\n",
       "      <td>163.400</td>\n",
       "      <td>2</td>\n",
       "    </tr>\n",
       "    <tr>\n",
       "      <th>3</th>\n",
       "      <td>Do It Good</td>\n",
       "      <td>A Taste Of Honey</td>\n",
       "      <td>Another Taste (Expanded Edition)</td>\n",
       "      <td>342826</td>\n",
       "      <td>0.699</td>\n",
       "      <td>0.740</td>\n",
       "      <td>-8.625</td>\n",
       "      <td>0.0714</td>\n",
       "      <td>0.000002</td>\n",
       "      <td>0.1650</td>\n",
       "      <td>0.889</td>\n",
       "      <td>104.168</td>\n",
       "      <td>2</td>\n",
       "    </tr>\n",
       "    <tr>\n",
       "      <th>4</th>\n",
       "      <td>If We Loved</td>\n",
       "      <td>A Taste Of Honey</td>\n",
       "      <td>A Taste Of Honey</td>\n",
       "      <td>266200</td>\n",
       "      <td>0.463</td>\n",
       "      <td>0.459</td>\n",
       "      <td>-11.600</td>\n",
       "      <td>0.7640</td>\n",
       "      <td>0.000003</td>\n",
       "      <td>0.1580</td>\n",
       "      <td>0.300</td>\n",
       "      <td>129.267</td>\n",
       "      <td>2</td>\n",
       "    </tr>\n",
       "  </tbody>\n",
       "</table>\n",
       "</div>"
      ],
      "text/plain": [
       "                               Track            Artist  \\\n",
       "0                 Boogie Oogie Oogie  A Taste Of Honey   \n",
       "1  Disco Dancin' - 2004 - Remastered  A Taste Of Honey   \n",
       "2                            Distant  A Taste Of Honey   \n",
       "3                         Do It Good  A Taste Of Honey   \n",
       "4                        If We Loved  A Taste Of Honey   \n",
       "\n",
       "                              Album  Duration  Danceability  Energy  Loudness  \\\n",
       "0                  A Taste Of Honey    245173         0.797   0.548    -9.228   \n",
       "1                  A Taste Of Honey    210493         0.751   0.570   -11.645   \n",
       "2                  A Taste Of Honey    260053         0.468   0.512   -10.187   \n",
       "3  Another Taste (Expanded Edition)    342826         0.699   0.740    -8.625   \n",
       "4                  A Taste Of Honey    266200         0.463   0.459   -11.600   \n",
       "\n",
       "   Acousticness  Instrumentalness  Liveness  Valence    Tempo Popularity_Group  \n",
       "0        0.0401          0.000010    0.0994    0.868  123.686                6  \n",
       "1        0.3710          0.000020    0.1230    0.770  103.408                2  \n",
       "2        0.7820          0.000020    0.2020    0.714  163.400                2  \n",
       "3        0.0714          0.000002    0.1650    0.889  104.168                2  \n",
       "4        0.7640          0.000003    0.1580    0.300  129.267                2  "
      ]
     },
     "execution_count": 15,
     "metadata": {},
     "output_type": "execute_result"
    }
   ],
   "source": [
    "# Display the first few rows of the filtered DataFrame\n",
    "df.head()"
   ]
  },
  {
   "cell_type": "code",
   "execution_count": 16,
   "id": "99814497-0615-4321-8c1f-6d8cab82fb20",
   "metadata": {},
   "outputs": [
    {
     "name": "stdout",
     "output_type": "stream",
     "text": [
      "<class 'pandas.core.frame.DataFrame'>\n",
      "RangeIndex: 724 entries, 0 to 723\n",
      "Data columns (total 13 columns):\n",
      " #   Column            Non-Null Count  Dtype   \n",
      "---  ------            --------------  -----   \n",
      " 0   Track             724 non-null    object  \n",
      " 1   Artist            724 non-null    object  \n",
      " 2   Album             724 non-null    object  \n",
      " 3   Duration          724 non-null    int64   \n",
      " 4   Danceability      724 non-null    float64 \n",
      " 5   Energy            724 non-null    float64 \n",
      " 6   Loudness          724 non-null    float64 \n",
      " 7   Acousticness      724 non-null    float64 \n",
      " 8   Instrumentalness  724 non-null    float64 \n",
      " 9   Liveness          724 non-null    float64 \n",
      " 10  Valence           724 non-null    float64 \n",
      " 11  Tempo             724 non-null    float64 \n",
      " 12  Popularity_Group  724 non-null    category\n",
      "dtypes: category(1), float64(8), int64(1), object(3)\n",
      "memory usage: 69.1+ KB\n"
     ]
    }
   ],
   "source": [
    "df.info()"
   ]
  },
  {
   "cell_type": "code",
   "execution_count": 17,
   "id": "860767ad-f7b5-46ed-a82f-f2d48b02a897",
   "metadata": {},
   "outputs": [],
   "source": [
    "# Save the filtered data to a new CSV file\n",
    "df.to_csv(\"ClassicDisco_New1.csv\", index=False)"
   ]
  },
  {
   "cell_type": "code",
   "execution_count": 18,
   "id": "ea1f3e3e-3a23-4170-bb24-306cfb329768",
   "metadata": {},
   "outputs": [
    {
     "name": "stdout",
     "output_type": "stream",
     "text": [
      "<class 'pandas.core.frame.DataFrame'>\n",
      "RangeIndex: 724 entries, 0 to 723\n",
      "Data columns (total 13 columns):\n",
      " #   Column            Non-Null Count  Dtype   \n",
      "---  ------            --------------  -----   \n",
      " 0   Track             724 non-null    object  \n",
      " 1   Artist            724 non-null    object  \n",
      " 2   Album             724 non-null    object  \n",
      " 3   Duration          724 non-null    int64   \n",
      " 4   Danceability      724 non-null    float64 \n",
      " 5   Energy            724 non-null    float64 \n",
      " 6   Loudness          724 non-null    float64 \n",
      " 7   Acousticness      724 non-null    float64 \n",
      " 8   Instrumentalness  724 non-null    float64 \n",
      " 9   Liveness          724 non-null    float64 \n",
      " 10  Valence           724 non-null    float64 \n",
      " 11  Tempo             724 non-null    float64 \n",
      " 12  Popularity_Group  724 non-null    category\n",
      "dtypes: category(1), float64(8), int64(1), object(3)\n",
      "memory usage: 69.1+ KB\n"
     ]
    }
   ],
   "source": [
    "df.info()"
   ]
  },
  {
   "cell_type": "code",
   "execution_count": null,
   "id": "0db84c9f-320f-4fd7-8ea7-f1173a116593",
   "metadata": {},
   "outputs": [],
   "source": []
  }
 ],
 "metadata": {
  "kernelspec": {
   "display_name": "Python 3 (ipykernel)",
   "language": "python",
   "name": "python3"
  },
  "language_info": {
   "codemirror_mode": {
    "name": "ipython",
    "version": 3
   },
   "file_extension": ".py",
   "mimetype": "text/x-python",
   "name": "python",
   "nbconvert_exporter": "python",
   "pygments_lexer": "ipython3",
   "version": "3.12.4"
  }
 },
 "nbformat": 4,
 "nbformat_minor": 5
}
